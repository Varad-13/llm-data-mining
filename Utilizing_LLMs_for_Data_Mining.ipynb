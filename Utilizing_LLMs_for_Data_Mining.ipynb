{
  "cells": [
    {
      "cell_type": "markdown",
      "metadata": {
        "id": "py9yyI1HQXUd"
      },
      "source": [
        "# Installing LlamaParse"
      ]
    },
    {
      "cell_type": "code",
      "execution_count": 1,
      "metadata": {
        "colab": {
          "base_uri": "https://localhost:8080/"
        },
        "id": "tCU3uQ5D-zjk",
        "outputId": "94811c05-c0c9-459d-d48c-cc467bcc92b4"
      },
      "outputs": [
        {
          "name": "stdout",
          "output_type": "stream",
          "text": [
            "Collecting llama-parse\n",
            "  Downloading llama_parse-0.6.2-py3-none-any.whl.metadata (6.9 kB)\n",
            "Collecting llama-cloud-services>=0.6.2 (from llama-parse)\n",
            "  Downloading llama_cloud_services-0.6.3-py3-none-any.whl.metadata (2.9 kB)\n",
            "Requirement already satisfied: click<9.0.0,>=8.1.7 in /usr/local/lib/python3.11/dist-packages (from llama-cloud-services>=0.6.2->llama-parse) (8.1.8)\n",
            "Collecting llama-cloud<0.2.0,>=0.1.11 (from llama-cloud-services>=0.6.2->llama-parse)\n",
            "  Downloading llama_cloud-0.1.13-py3-none-any.whl.metadata (800 bytes)\n",
            "Collecting llama-index-core>=0.11.0 (from llama-cloud-services>=0.6.2->llama-parse)\n",
            "  Downloading llama_index_core-0.12.22-py3-none-any.whl.metadata (2.5 kB)\n",
            "Requirement already satisfied: pydantic!=2.10 in /usr/local/lib/python3.11/dist-packages (from llama-cloud-services>=0.6.2->llama-parse) (2.10.6)\n",
            "Collecting python-dotenv<2.0.0,>=1.0.1 (from llama-cloud-services>=0.6.2->llama-parse)\n",
            "  Downloading python_dotenv-1.0.1-py3-none-any.whl.metadata (23 kB)\n",
            "Requirement already satisfied: certifi>=2024.7.4 in /usr/local/lib/python3.11/dist-packages (from llama-cloud<0.2.0,>=0.1.11->llama-cloud-services>=0.6.2->llama-parse) (2025.1.31)\n",
            "Requirement already satisfied: httpx>=0.20.0 in /usr/local/lib/python3.11/dist-packages (from llama-cloud<0.2.0,>=0.1.11->llama-cloud-services>=0.6.2->llama-parse) (0.28.1)\n",
            "Requirement already satisfied: PyYAML>=6.0.1 in /usr/local/lib/python3.11/dist-packages (from llama-index-core>=0.11.0->llama-cloud-services>=0.6.2->llama-parse) (6.0.2)\n",
            "Requirement already satisfied: SQLAlchemy>=1.4.49 in /usr/local/lib/python3.11/dist-packages (from SQLAlchemy[asyncio]>=1.4.49->llama-index-core>=0.11.0->llama-cloud-services>=0.6.2->llama-parse) (2.0.38)\n",
            "Requirement already satisfied: aiohttp<4.0.0,>=3.8.6 in /usr/local/lib/python3.11/dist-packages (from llama-index-core>=0.11.0->llama-cloud-services>=0.6.2->llama-parse) (3.11.13)\n",
            "Collecting dataclasses-json (from llama-index-core>=0.11.0->llama-cloud-services>=0.6.2->llama-parse)\n",
            "  Downloading dataclasses_json-0.6.7-py3-none-any.whl.metadata (25 kB)\n",
            "Requirement already satisfied: deprecated>=1.2.9.3 in /usr/local/lib/python3.11/dist-packages (from llama-index-core>=0.11.0->llama-cloud-services>=0.6.2->llama-parse) (1.2.18)\n",
            "Collecting dirtyjson<2.0.0,>=1.0.8 (from llama-index-core>=0.11.0->llama-cloud-services>=0.6.2->llama-parse)\n",
            "  Downloading dirtyjson-1.0.8-py3-none-any.whl.metadata (11 kB)\n",
            "Collecting filetype<2.0.0,>=1.2.0 (from llama-index-core>=0.11.0->llama-cloud-services>=0.6.2->llama-parse)\n",
            "  Downloading filetype-1.2.0-py2.py3-none-any.whl.metadata (6.5 kB)\n",
            "Requirement already satisfied: fsspec>=2023.5.0 in /usr/local/lib/python3.11/dist-packages (from llama-index-core>=0.11.0->llama-cloud-services>=0.6.2->llama-parse) (2024.10.0)\n",
            "Requirement already satisfied: nest-asyncio<2.0.0,>=1.5.8 in /usr/local/lib/python3.11/dist-packages (from llama-index-core>=0.11.0->llama-cloud-services>=0.6.2->llama-parse) (1.6.0)\n",
            "Requirement already satisfied: networkx>=3.0 in /usr/local/lib/python3.11/dist-packages (from llama-index-core>=0.11.0->llama-cloud-services>=0.6.2->llama-parse) (3.4.2)\n",
            "Requirement already satisfied: nltk>3.8.1 in /usr/local/lib/python3.11/dist-packages (from llama-index-core>=0.11.0->llama-cloud-services>=0.6.2->llama-parse) (3.9.1)\n",
            "Requirement already satisfied: numpy in /usr/local/lib/python3.11/dist-packages (from llama-index-core>=0.11.0->llama-cloud-services>=0.6.2->llama-parse) (1.26.4)\n",
            "Requirement already satisfied: pillow>=9.0.0 in /usr/local/lib/python3.11/dist-packages (from llama-index-core>=0.11.0->llama-cloud-services>=0.6.2->llama-parse) (11.1.0)\n",
            "Requirement already satisfied: requests>=2.31.0 in /usr/local/lib/python3.11/dist-packages (from llama-index-core>=0.11.0->llama-cloud-services>=0.6.2->llama-parse) (2.32.3)\n",
            "Requirement already satisfied: tenacity!=8.4.0,<10.0.0,>=8.2.0 in /usr/local/lib/python3.11/dist-packages (from llama-index-core>=0.11.0->llama-cloud-services>=0.6.2->llama-parse) (9.0.0)\n",
            "Collecting tiktoken>=0.3.3 (from llama-index-core>=0.11.0->llama-cloud-services>=0.6.2->llama-parse)\n",
            "  Downloading tiktoken-0.9.0-cp311-cp311-manylinux_2_17_x86_64.manylinux2014_x86_64.whl.metadata (6.7 kB)\n",
            "Requirement already satisfied: tqdm<5.0.0,>=4.66.1 in /usr/local/lib/python3.11/dist-packages (from llama-index-core>=0.11.0->llama-cloud-services>=0.6.2->llama-parse) (4.67.1)\n",
            "Requirement already satisfied: typing-extensions>=4.5.0 in /usr/local/lib/python3.11/dist-packages (from llama-index-core>=0.11.0->llama-cloud-services>=0.6.2->llama-parse) (4.12.2)\n",
            "Collecting typing-inspect>=0.8.0 (from llama-index-core>=0.11.0->llama-cloud-services>=0.6.2->llama-parse)\n",
            "  Downloading typing_inspect-0.9.0-py3-none-any.whl.metadata (1.5 kB)\n",
            "Requirement already satisfied: wrapt in /usr/local/lib/python3.11/dist-packages (from llama-index-core>=0.11.0->llama-cloud-services>=0.6.2->llama-parse) (1.17.2)\n",
            "Requirement already satisfied: annotated-types>=0.6.0 in /usr/local/lib/python3.11/dist-packages (from pydantic!=2.10->llama-cloud-services>=0.6.2->llama-parse) (0.7.0)\n",
            "Requirement already satisfied: pydantic-core==2.27.2 in /usr/local/lib/python3.11/dist-packages (from pydantic!=2.10->llama-cloud-services>=0.6.2->llama-parse) (2.27.2)\n",
            "Requirement already satisfied: aiohappyeyeballs>=2.3.0 in /usr/local/lib/python3.11/dist-packages (from aiohttp<4.0.0,>=3.8.6->llama-index-core>=0.11.0->llama-cloud-services>=0.6.2->llama-parse) (2.4.6)\n",
            "Requirement already satisfied: aiosignal>=1.1.2 in /usr/local/lib/python3.11/dist-packages (from aiohttp<4.0.0,>=3.8.6->llama-index-core>=0.11.0->llama-cloud-services>=0.6.2->llama-parse) (1.3.2)\n",
            "Requirement already satisfied: attrs>=17.3.0 in /usr/local/lib/python3.11/dist-packages (from aiohttp<4.0.0,>=3.8.6->llama-index-core>=0.11.0->llama-cloud-services>=0.6.2->llama-parse) (25.1.0)\n",
            "Requirement already satisfied: frozenlist>=1.1.1 in /usr/local/lib/python3.11/dist-packages (from aiohttp<4.0.0,>=3.8.6->llama-index-core>=0.11.0->llama-cloud-services>=0.6.2->llama-parse) (1.5.0)\n",
            "Requirement already satisfied: multidict<7.0,>=4.5 in /usr/local/lib/python3.11/dist-packages (from aiohttp<4.0.0,>=3.8.6->llama-index-core>=0.11.0->llama-cloud-services>=0.6.2->llama-parse) (6.1.0)\n",
            "Requirement already satisfied: propcache>=0.2.0 in /usr/local/lib/python3.11/dist-packages (from aiohttp<4.0.0,>=3.8.6->llama-index-core>=0.11.0->llama-cloud-services>=0.6.2->llama-parse) (0.3.0)\n",
            "Requirement already satisfied: yarl<2.0,>=1.17.0 in /usr/local/lib/python3.11/dist-packages (from aiohttp<4.0.0,>=3.8.6->llama-index-core>=0.11.0->llama-cloud-services>=0.6.2->llama-parse) (1.18.3)\n",
            "Requirement already satisfied: anyio in /usr/local/lib/python3.11/dist-packages (from httpx>=0.20.0->llama-cloud<0.2.0,>=0.1.11->llama-cloud-services>=0.6.2->llama-parse) (3.7.1)\n",
            "Requirement already satisfied: httpcore==1.* in /usr/local/lib/python3.11/dist-packages (from httpx>=0.20.0->llama-cloud<0.2.0,>=0.1.11->llama-cloud-services>=0.6.2->llama-parse) (1.0.7)\n",
            "Requirement already satisfied: idna in /usr/local/lib/python3.11/dist-packages (from httpx>=0.20.0->llama-cloud<0.2.0,>=0.1.11->llama-cloud-services>=0.6.2->llama-parse) (3.10)\n",
            "Requirement already satisfied: h11<0.15,>=0.13 in /usr/local/lib/python3.11/dist-packages (from httpcore==1.*->httpx>=0.20.0->llama-cloud<0.2.0,>=0.1.11->llama-cloud-services>=0.6.2->llama-parse) (0.14.0)\n",
            "Requirement already satisfied: joblib in /usr/local/lib/python3.11/dist-packages (from nltk>3.8.1->llama-index-core>=0.11.0->llama-cloud-services>=0.6.2->llama-parse) (1.4.2)\n",
            "Requirement already satisfied: regex>=2021.8.3 in /usr/local/lib/python3.11/dist-packages (from nltk>3.8.1->llama-index-core>=0.11.0->llama-cloud-services>=0.6.2->llama-parse) (2024.11.6)\n",
            "Requirement already satisfied: charset-normalizer<4,>=2 in /usr/local/lib/python3.11/dist-packages (from requests>=2.31.0->llama-index-core>=0.11.0->llama-cloud-services>=0.6.2->llama-parse) (3.4.1)\n",
            "Requirement already satisfied: urllib3<3,>=1.21.1 in /usr/local/lib/python3.11/dist-packages (from requests>=2.31.0->llama-index-core>=0.11.0->llama-cloud-services>=0.6.2->llama-parse) (2.3.0)\n",
            "Requirement already satisfied: greenlet!=0.4.17 in /usr/local/lib/python3.11/dist-packages (from SQLAlchemy>=1.4.49->SQLAlchemy[asyncio]>=1.4.49->llama-index-core>=0.11.0->llama-cloud-services>=0.6.2->llama-parse) (3.1.1)\n",
            "Collecting mypy-extensions>=0.3.0 (from typing-inspect>=0.8.0->llama-index-core>=0.11.0->llama-cloud-services>=0.6.2->llama-parse)\n",
            "  Downloading mypy_extensions-1.0.0-py3-none-any.whl.metadata (1.1 kB)\n",
            "Collecting marshmallow<4.0.0,>=3.18.0 (from dataclasses-json->llama-index-core>=0.11.0->llama-cloud-services>=0.6.2->llama-parse)\n",
            "  Downloading marshmallow-3.26.1-py3-none-any.whl.metadata (7.3 kB)\n",
            "Requirement already satisfied: packaging>=17.0 in /usr/local/lib/python3.11/dist-packages (from marshmallow<4.0.0,>=3.18.0->dataclasses-json->llama-index-core>=0.11.0->llama-cloud-services>=0.6.2->llama-parse) (24.2)\n",
            "Requirement already satisfied: sniffio>=1.1 in /usr/local/lib/python3.11/dist-packages (from anyio->httpx>=0.20.0->llama-cloud<0.2.0,>=0.1.11->llama-cloud-services>=0.6.2->llama-parse) (1.3.1)\n",
            "Downloading llama_parse-0.6.2-py3-none-any.whl (4.8 kB)\n",
            "Downloading llama_cloud_services-0.6.3-py3-none-any.whl (28 kB)\n",
            "Downloading llama_cloud-0.1.13-py3-none-any.whl (253 kB)\n",
            "\u001b[2K   \u001b[90m━━━━━━━━━━━━━━━━━━━━━━━━━━━━━━━━━━━━━━━━\u001b[0m \u001b[32m253.4/253.4 kB\u001b[0m \u001b[31m8.0 MB/s\u001b[0m eta \u001b[36m0:00:00\u001b[0m\n",
            "\u001b[?25hDownloading llama_index_core-0.12.22-py3-none-any.whl (1.6 MB)\n",
            "\u001b[2K   \u001b[90m━━━━━━━━━━━━━━━━━━━━━━━━━━━━━━━━━━━━━━━━\u001b[0m \u001b[32m1.6/1.6 MB\u001b[0m \u001b[31m21.4 MB/s\u001b[0m eta \u001b[36m0:00:00\u001b[0m\n",
            "\u001b[?25hDownloading python_dotenv-1.0.1-py3-none-any.whl (19 kB)\n",
            "Downloading dirtyjson-1.0.8-py3-none-any.whl (25 kB)\n",
            "Downloading filetype-1.2.0-py2.py3-none-any.whl (19 kB)\n",
            "Downloading tiktoken-0.9.0-cp311-cp311-manylinux_2_17_x86_64.manylinux2014_x86_64.whl (1.2 MB)\n",
            "\u001b[2K   \u001b[90m━━━━━━━━━━━━━━━━━━━━━━━━━━━━━━━━━━━━━━━━\u001b[0m \u001b[32m1.2/1.2 MB\u001b[0m \u001b[31m18.4 MB/s\u001b[0m eta \u001b[36m0:00:00\u001b[0m\n",
            "\u001b[?25hDownloading typing_inspect-0.9.0-py3-none-any.whl (8.8 kB)\n",
            "Downloading dataclasses_json-0.6.7-py3-none-any.whl (28 kB)\n",
            "Downloading marshmallow-3.26.1-py3-none-any.whl (50 kB)\n",
            "\u001b[2K   \u001b[90m━━━━━━━━━━━━━━━━━━━━━━━━━━━━━━━━━━━━━━━━\u001b[0m \u001b[32m50.9/50.9 kB\u001b[0m \u001b[31m2.9 MB/s\u001b[0m eta \u001b[36m0:00:00\u001b[0m\n",
            "\u001b[?25hDownloading mypy_extensions-1.0.0-py3-none-any.whl (4.7 kB)\n",
            "Installing collected packages: filetype, dirtyjson, python-dotenv, mypy-extensions, marshmallow, typing-inspect, tiktoken, llama-cloud, dataclasses-json, llama-index-core, llama-cloud-services, llama-parse\n",
            "Successfully installed dataclasses-json-0.6.7 dirtyjson-1.0.8 filetype-1.2.0 llama-cloud-0.1.13 llama-cloud-services-0.6.3 llama-index-core-0.12.22 llama-parse-0.6.2 marshmallow-3.26.1 mypy-extensions-1.0.0 python-dotenv-1.0.1 tiktoken-0.9.0 typing-inspect-0.9.0\n"
          ]
        }
      ],
      "source": [
        "%pip install llama-parse"
      ]
    },
    {
      "cell_type": "markdown",
      "metadata": {
        "id": "9FxpdhNNQn9U"
      },
      "source": [
        "## Initializing LlamaParse"
      ]
    },
    {
      "cell_type": "code",
      "execution_count": null,
      "metadata": {
        "id": "df7AN2g0-zjn"
      },
      "outputs": [],
      "source": [
        "import asyncio\n",
        "import nest_asyncio\n",
        "from llama_parse import LlamaParse\n",
        "import os\n",
        "\n",
        "nest_asyncio.apply()\n",
        "\n",
        "# Initialize LlamaParse\n",
        "llama_parse = LlamaParse(api_key=\"llx-\")\n",
        "\n",
        "data_folder = \"data\""
      ]
    },
    {
      "cell_type": "markdown",
      "metadata": {
        "id": "qqkqdxhnRDez"
      },
      "source": [
        "### Testing single document using LlamaParse"
      ]
    },
    {
      "cell_type": "code",
      "execution_count": 4,
      "metadata": {
        "colab": {
          "base_uri": "https://localhost:8080/"
        },
        "id": "Ztr5TkX8QlmP",
        "outputId": "765d0ffe-60a1-490c-aa62-9525261db508"
      },
      "outputs": [
        {
          "name": "stdout",
          "output_type": "stream",
          "text": [
            "Processing: data/10641230.pdf\n",
            "Started parsing the file under job_id 8d5c6807-35e8-466d-a037-c254d35e5d0f\n",
            "Extracted Text:\n",
            " IT MANAGEMENT\n",
            "Career Overview\n",
            "Detail-oriented professional with extensive Information Technology experience in hardware and software troubleshooting/management. With\n",
            "additional experience in networking, task automation, server technologies, digital graphic design, client + server side programming technologies and\n",
            "popular industry software packages including Microsoft Office and Adobe Creative Suite.\n",
            "Qualifications\n",
            " Education and certificatesTroubleshooting q CompTIA A+ certified (2012) q Advanced troubleshooting q CompTIA Net+ certification class q\n",
            " Virus and spyware removal qMCSA certification class q Computer diagnostics and repair q Web Development I + II class q Gaming console\n",
            " repair and q Digital media manipulation class modification q Java programming class q Mobile device repair q Hardware support and\n",
            " Programming and Web troubleshooting q HTML - HTML5 q Optimizing and performance tuning q XML q Audio and video technologies q\n",
            " CSS - CSS3 q Medical technology installation and q JavaScript troubleshooting q Command Line q Java Management q ActionScript q\n",
            " Hardware and software upgrade q PHP planning q Database serversq Documentation q Android mobile applicationq Organization\n",
            " developmentq Multi-project priority management q Content Management Systems (CMS)Operating Systems q Website enhancement q\n",
            " Windows 95 - 8 qStoryboardingq Windows Server 2003 - 8 q Search Engine Optimization (SEO) q Windows Phone 7.0 - 8.0 q Social\n",
            " Media and marketingq Multiple Linux Distributions q Ubuntu 10.04 LTS - 12.10 Networkingq Android 1.0 - 4.0.4 q Cloud computingq Mac\n",
            " OS X v10.0 - v10.8 q Server managementq IOS 1.0 - 6.1 q Active directory qRemote connection technologies Programs q Proficiency in\n",
            " numerous protocolsq Microsoft Office 2010 including TCP/IP q Small business management q Information security software (client and server)\n",
            " q Wireless technologies q Adobe Creative Suite 5 q Telephony technologies q Wiring and Network engineeringGraphics and Media q Photo\n",
            " enhancing Electronicsq Brochure and newsletter formatting q Electronic circuits and components q Audio and video editing q Circuit diagrams\n",
            " and Prototypingq Logo and business card q Logic, electronic and computational algorithms q Electromagnetisms and waves q Quantumparticle\n",
            " mechanicsq As well as many miscellaneous IT q Energy and electrical alternatives skills. (Solar)\n",
            "Accomplishments\n",
            "      Rebuilt a client's website fromthe ground up and increased monthly hits from3422 to 40884 in a matter of a few months.\n",
            "      Designed, priced, built, and installed a complete information systemupgrade for a client; including networking devices, wiring, client\n",
            "      computers, server and software.\n",
            "      Diagrammed, prototyped, and assembled a portable USB phone charger outputting optimal voltage and amperage, with circuits and\n",
            "      components small enough to all fit in an Altoids tin.\n",
            "      It allows next to unlimited portable phone charging due to the device itself being recharged by a small solar panel on the top.\n",
            "      Automated and streamlined daily office tasks for client using Batch Scripting.\n",
            "      Troubleshot medical technology including X-ray machines and medical industry client and server software (Eaglesoft).\n",
            "      Information Technology project management experience.\n",
            "      Programmed a cloud storage website allowing a client access to a shared home network drive fromany browser, anywhere.\n",
            "      It includes security login, uploading and downloading.\n",
            "Work Experience\n",
            "IT management\n",
            "March 2012 toNovember 2012 Company Name ï¼ City ,State\n",
            "      In charge of planning, budgeting, and executing all IT projects.In addition to office troubleshooting, building/managing the company website\n",
            "      and designing/updating the business's electronic newsletter.\n",
            "Information Technology Consultant\n",
            "July 2011 toFebruary 2012 Company Name ï¼ State\n",
            "      Contracted IT consulting work fromclient computer repair to network expansion.\n",
            "May 2011 toJuly 2011 Company Name ï¼ City, State\n",
            "      In charge of company website management, social media administration, as well as assisting in administrative tasks.\n",
            "Education and Training\n",
            "Associate of Science :Information Technology, 2014 Lyons Township ï¼ City , State ,United States Information Technology\n",
            "High School Diploma General Education\n",
            "Coursework in computer science all 4 years GPA:Diamond Achievement Academic award * Honor Roll Diamond Achievement Academic\n",
            "award * Honor Roll\n",
            "Skills\n",
            "A+ certified, ActionScript, Active directory, administrative, Adobe Creative Suite 5, Photo, Audio, Brochure, budgeting, business management,\n",
            "client and server, CMS, Hardware, computer repair, consulting, Content Management, CSS, CSS3, client, Database, designing, Documentation,\n",
            "Electronics, XML, Graphics, Hardware support, HTML, HTML5, PHP, Information security, Java, Java programming, JavaScript, Linux, Logic,\n",
            "Logo, Mac OS, managing, marketing, Medical technology, Microsoft Office, office, Windows, Windows 95, Network engineering, network,\n",
            "Networking, newsletter, Operating Systems, Organization development, Programming, protocols, Prototyping, Search Engine Optimization,\n",
            "servers, Storyboarding, TCP/IP, Telephony, Phone 7.0, Troubleshooting, upgrade, video, video editing, Web Development I, Website, website\n",
            "management, Windows Server, Wiring\n"
          ]
        }
      ],
      "source": [
        "pdf_files = [f for f in os.listdir(data_folder) if f.endswith(\".pdf\")]\n",
        "if pdf_files:\n",
        "    first_pdf = os.path.join(data_folder, pdf_files[0])\n",
        "    print(f\"Processing: {first_pdf}\")\n",
        "\n",
        "    # Extract text asynchronously using LlamaParse\n",
        "    text = await llama_parse.aload_data(first_pdf)\n",
        "else:\n",
        "    print(\"No PDFs found in the data folder.\")\n",
        "\n",
        "print(\"Extracted Text:\\n\", text[0].text_resource.text)\n",
        "resume = text[0].text_resource.text"
      ]
    },
    {
      "cell_type": "markdown",
      "metadata": {
        "id": "0N-ntpQ_RbCi"
      },
      "source": [
        "Create a folder to save parsed resumes"
      ]
    },
    {
      "cell_type": "code",
      "execution_count": 5,
      "metadata": {
        "id": "XXM4P7oK-zjo"
      },
      "outputs": [],
      "source": [
        "output_folder = \"parsed\"\n",
        "\n",
        "# Ensure output directory exists\n",
        "os.makedirs(output_folder, exist_ok=True)"
      ]
    },
    {
      "cell_type": "markdown",
      "metadata": {
        "id": "P3mbw78HRh3A"
      },
      "source": [
        "Parse and extract from multiple pdfs"
      ]
    },
    {
      "cell_type": "code",
      "execution_count": 6,
      "metadata": {
        "colab": {
          "base_uri": "https://localhost:8080/",
          "height": 668
        },
        "id": "rKaP468U-zjp",
        "outputId": "9df4301e-0727-4a6a-a403-14d7842b59a1"
      },
      "outputs": [
        {
          "name": "stdout",
          "output_type": "stream",
          "text": [
            "Processing: data/10641230.pdf\n",
            "Started parsing the file under job_id 6016539b-f909-474d-af59-ae42f41f954e\n",
            "Saved extracted text to: parsed/10641230.txt\n",
            "Processing: data/11584809.pdf\n",
            "Started parsing the file under job_id 1d6dc686-5a41-4daf-8c51-d996f3e75417\n",
            "Saved extracted text to: parsed/11584809.txt\n",
            "Processing: data/10839851.pdf\n",
            "Started parsing the file under job_id 40d5a3c1-c1c6-4029-9187-0f59f303656a\n",
            "Saved extracted text to: parsed/10839851.txt\n",
            "Processing: data/11580408.pdf\n",
            "Started parsing the file under job_id f79317eb-52a4-4add-9334-82251b16380d\n",
            "Saved extracted text to: parsed/11580408.txt\n",
            "Processing: data/10840430.pdf\n",
            "Started parsing the file under job_id 0691c837-74c5-4ac8-a08a-d1c6199f3f91\n",
            "Saved extracted text to: parsed/10840430.txt\n",
            "Processing: data/12045067.pdf\n",
            "Started parsing the file under job_id fc1cf6a8-8b6b-4f23-b21c-1a8459a488f9\n",
            "."
          ]
        },
        {
          "ename": "CancelledError",
          "evalue": "",
          "output_type": "error",
          "traceback": [
            "\u001b[0;31m---------------------------------------------------------------------------\u001b[0m",
            "\u001b[0;31mCancelledError\u001b[0m                            Traceback (most recent call last)",
            "\u001b[0;32m<ipython-input-6-9666ebba523f>\u001b[0m in \u001b[0;36m<cell line: 1>\u001b[0;34m()\u001b[0m\n\u001b[1;32m      4\u001b[0m \u001b[0;34m\u001b[0m\u001b[0m\n\u001b[1;32m      5\u001b[0m     \u001b[0;31m# Extract text asynchronously using LlamaParse\u001b[0m\u001b[0;34m\u001b[0m\u001b[0;34m\u001b[0m\u001b[0m\n\u001b[0;32m----> 6\u001b[0;31m     \u001b[0mextracted_text\u001b[0m \u001b[0;34m=\u001b[0m \u001b[0;32mawait\u001b[0m \u001b[0mllama_parse\u001b[0m\u001b[0;34m.\u001b[0m\u001b[0maload_data\u001b[0m\u001b[0;34m(\u001b[0m\u001b[0mpdf_path\u001b[0m\u001b[0;34m)\u001b[0m\u001b[0;34m\u001b[0m\u001b[0;34m\u001b[0m\u001b[0m\n\u001b[0m\u001b[1;32m      7\u001b[0m \u001b[0;34m\u001b[0m\u001b[0m\n\u001b[1;32m      8\u001b[0m     \u001b[0;31m# Define output text file path\u001b[0m\u001b[0;34m\u001b[0m\u001b[0;34m\u001b[0m\u001b[0m\n",
            "\u001b[0;32m/usr/local/lib/python3.11/dist-packages/llama_cloud_services/parse/base.py\u001b[0m in \u001b[0;36maload_data\u001b[0;34m(self, file_path, extra_info, fs)\u001b[0m\n\u001b[1;32m    869\u001b[0m         \u001b[0;34m\"\"\"Load data from the input path.\"\"\"\u001b[0m\u001b[0;34m\u001b[0m\u001b[0;34m\u001b[0m\u001b[0m\n\u001b[1;32m    870\u001b[0m         \u001b[0;32mif\u001b[0m \u001b[0misinstance\u001b[0m\u001b[0;34m(\u001b[0m\u001b[0mfile_path\u001b[0m\u001b[0;34m,\u001b[0m \u001b[0;34m(\u001b[0m\u001b[0mstr\u001b[0m\u001b[0;34m,\u001b[0m \u001b[0mPurePosixPath\u001b[0m\u001b[0;34m,\u001b[0m \u001b[0mPath\u001b[0m\u001b[0;34m,\u001b[0m \u001b[0mbytes\u001b[0m\u001b[0;34m,\u001b[0m \u001b[0mBufferedIOBase\u001b[0m\u001b[0;34m)\u001b[0m\u001b[0;34m)\u001b[0m\u001b[0;34m:\u001b[0m\u001b[0;34m\u001b[0m\u001b[0;34m\u001b[0m\u001b[0m\n\u001b[0;32m--> 871\u001b[0;31m             return await self._aload_data(\n\u001b[0m\u001b[1;32m    872\u001b[0m                 \u001b[0mfile_path\u001b[0m\u001b[0;34m,\u001b[0m \u001b[0mextra_info\u001b[0m\u001b[0;34m=\u001b[0m\u001b[0mextra_info\u001b[0m\u001b[0;34m,\u001b[0m \u001b[0mfs\u001b[0m\u001b[0;34m=\u001b[0m\u001b[0mfs\u001b[0m\u001b[0;34m,\u001b[0m \u001b[0mverbose\u001b[0m\u001b[0;34m=\u001b[0m\u001b[0mself\u001b[0m\u001b[0;34m.\u001b[0m\u001b[0mverbose\u001b[0m\u001b[0;34m\u001b[0m\u001b[0;34m\u001b[0m\u001b[0m\n\u001b[1;32m    873\u001b[0m             )\n",
            "\u001b[0;32m/usr/local/lib/python3.11/dist-packages/llama_cloud_services/parse/base.py\u001b[0m in \u001b[0;36m_aload_data\u001b[0;34m(self, file_path, extra_info, fs, verbose)\u001b[0m\n\u001b[1;32m    838\u001b[0m                 \u001b[0mprint\u001b[0m\u001b[0;34m(\u001b[0m\u001b[0;34m\"Started parsing the file under job_id %s\"\u001b[0m \u001b[0;34m%\u001b[0m \u001b[0mjob_id\u001b[0m\u001b[0;34m)\u001b[0m\u001b[0;34m\u001b[0m\u001b[0;34m\u001b[0m\u001b[0m\n\u001b[1;32m    839\u001b[0m \u001b[0;34m\u001b[0m\u001b[0m\n\u001b[0;32m--> 840\u001b[0;31m             result = await self._get_job_result(\n\u001b[0m\u001b[1;32m    841\u001b[0m                 \u001b[0mjob_id\u001b[0m\u001b[0;34m,\u001b[0m \u001b[0mself\u001b[0m\u001b[0;34m.\u001b[0m\u001b[0mresult_type\u001b[0m\u001b[0;34m.\u001b[0m\u001b[0mvalue\u001b[0m\u001b[0;34m,\u001b[0m \u001b[0mverbose\u001b[0m\u001b[0;34m=\u001b[0m\u001b[0mverbose\u001b[0m\u001b[0;34m\u001b[0m\u001b[0;34m\u001b[0m\u001b[0m\n\u001b[1;32m    842\u001b[0m             )\n",
            "\u001b[0;32m/usr/local/lib/python3.11/dist-packages/llama_cloud_services/parse/base.py\u001b[0m in \u001b[0;36m_get_job_result\u001b[0;34m(self, job_id, result_type, verbose)\u001b[0m\n\u001b[1;32m    787\u001b[0m         \u001b[0mclient\u001b[0m \u001b[0;34m=\u001b[0m \u001b[0mself\u001b[0m\u001b[0;34m.\u001b[0m\u001b[0maclient\u001b[0m\u001b[0;34m\u001b[0m\u001b[0;34m\u001b[0m\u001b[0m\n\u001b[1;32m    788\u001b[0m         \u001b[0;32mwhile\u001b[0m \u001b[0;32mTrue\u001b[0m\u001b[0;34m:\u001b[0m\u001b[0;34m\u001b[0m\u001b[0;34m\u001b[0m\u001b[0m\n\u001b[0;32m--> 789\u001b[0;31m             \u001b[0;32mawait\u001b[0m \u001b[0masyncio\u001b[0m\u001b[0;34m.\u001b[0m\u001b[0msleep\u001b[0m\u001b[0;34m(\u001b[0m\u001b[0mself\u001b[0m\u001b[0;34m.\u001b[0m\u001b[0mcheck_interval\u001b[0m\u001b[0;34m)\u001b[0m\u001b[0;34m\u001b[0m\u001b[0;34m\u001b[0m\u001b[0m\n\u001b[0m\u001b[1;32m    790\u001b[0m             \u001b[0mtries\u001b[0m \u001b[0;34m+=\u001b[0m \u001b[0;36m1\u001b[0m\u001b[0;34m\u001b[0m\u001b[0;34m\u001b[0m\u001b[0m\n\u001b[1;32m    791\u001b[0m             \u001b[0mresult\u001b[0m \u001b[0;34m=\u001b[0m \u001b[0;32mawait\u001b[0m \u001b[0mclient\u001b[0m\u001b[0;34m.\u001b[0m\u001b[0mget\u001b[0m\u001b[0;34m(\u001b[0m\u001b[0mJOB_STATUS_ROUTE\u001b[0m\u001b[0;34m.\u001b[0m\u001b[0mformat\u001b[0m\u001b[0;34m(\u001b[0m\u001b[0mjob_id\u001b[0m\u001b[0;34m=\u001b[0m\u001b[0mjob_id\u001b[0m\u001b[0;34m)\u001b[0m\u001b[0;34m)\u001b[0m\u001b[0;34m\u001b[0m\u001b[0;34m\u001b[0m\u001b[0m\n",
            "\u001b[0;32m/usr/lib/python3.11/asyncio/tasks.py\u001b[0m in \u001b[0;36msleep\u001b[0;34m(delay, result)\u001b[0m\n\u001b[1;32m    647\u001b[0m                         future, result)\n\u001b[1;32m    648\u001b[0m     \u001b[0;32mtry\u001b[0m\u001b[0;34m:\u001b[0m\u001b[0;34m\u001b[0m\u001b[0;34m\u001b[0m\u001b[0m\n\u001b[0;32m--> 649\u001b[0;31m         \u001b[0;32mreturn\u001b[0m \u001b[0;32mawait\u001b[0m \u001b[0mfuture\u001b[0m\u001b[0;34m\u001b[0m\u001b[0;34m\u001b[0m\u001b[0m\n\u001b[0m\u001b[1;32m    650\u001b[0m     \u001b[0;32mfinally\u001b[0m\u001b[0;34m:\u001b[0m\u001b[0;34m\u001b[0m\u001b[0;34m\u001b[0m\u001b[0m\n\u001b[1;32m    651\u001b[0m         \u001b[0mh\u001b[0m\u001b[0;34m.\u001b[0m\u001b[0mcancel\u001b[0m\u001b[0;34m(\u001b[0m\u001b[0;34m)\u001b[0m\u001b[0;34m\u001b[0m\u001b[0;34m\u001b[0m\u001b[0m\n",
            "\u001b[0;32m/usr/lib/python3.11/asyncio/futures.py\u001b[0m in \u001b[0;36m__await__\u001b[0;34m(self)\u001b[0m\n\u001b[1;32m    285\u001b[0m         \u001b[0;32mif\u001b[0m \u001b[0;32mnot\u001b[0m \u001b[0mself\u001b[0m\u001b[0;34m.\u001b[0m\u001b[0mdone\u001b[0m\u001b[0;34m(\u001b[0m\u001b[0;34m)\u001b[0m\u001b[0;34m:\u001b[0m\u001b[0;34m\u001b[0m\u001b[0;34m\u001b[0m\u001b[0m\n\u001b[1;32m    286\u001b[0m             \u001b[0mself\u001b[0m\u001b[0;34m.\u001b[0m\u001b[0m_asyncio_future_blocking\u001b[0m \u001b[0;34m=\u001b[0m \u001b[0;32mTrue\u001b[0m\u001b[0;34m\u001b[0m\u001b[0;34m\u001b[0m\u001b[0m\n\u001b[0;32m--> 287\u001b[0;31m             \u001b[0;32myield\u001b[0m \u001b[0mself\u001b[0m  \u001b[0;31m# This tells Task to wait for completion.\u001b[0m\u001b[0;34m\u001b[0m\u001b[0;34m\u001b[0m\u001b[0m\n\u001b[0m\u001b[1;32m    288\u001b[0m         \u001b[0;32mif\u001b[0m \u001b[0;32mnot\u001b[0m \u001b[0mself\u001b[0m\u001b[0;34m.\u001b[0m\u001b[0mdone\u001b[0m\u001b[0;34m(\u001b[0m\u001b[0;34m)\u001b[0m\u001b[0;34m:\u001b[0m\u001b[0;34m\u001b[0m\u001b[0;34m\u001b[0m\u001b[0m\n\u001b[1;32m    289\u001b[0m             \u001b[0;32mraise\u001b[0m \u001b[0mRuntimeError\u001b[0m\u001b[0;34m(\u001b[0m\u001b[0;34m\"await wasn't used with future\"\u001b[0m\u001b[0;34m)\u001b[0m\u001b[0;34m\u001b[0m\u001b[0;34m\u001b[0m\u001b[0m\n",
            "\u001b[0;31mCancelledError\u001b[0m: "
          ]
        }
      ],
      "source": [
        "for pdf_file in pdf_files:\n",
        "    pdf_path = os.path.join(data_folder, pdf_file)\n",
        "    print(f\"Processing: {pdf_path}\")\n",
        "\n",
        "    # Extract text asynchronously using LlamaParse\n",
        "    extracted_text = await llama_parse.aload_data(pdf_path)\n",
        "\n",
        "    # Define output text file path\n",
        "    text_file_path = os.path.join(output_folder, f\"{os.path.splitext(pdf_file)[0]}.txt\")\n",
        "\n",
        "    # Write extracted text to file\n",
        "    with open(text_file_path, \"w\", encoding=\"utf-8\") as text_file:\n",
        "        text_file.write(extracted_text[0].text_resource.text)\n",
        "\n",
        "    print(f\"Saved extracted text to: {text_file_path}\")\n"
      ]
    },
    {
      "cell_type": "code",
      "execution_count": 7,
      "metadata": {
        "id": "TQnmZStT-zjp"
      },
      "outputs": [],
      "source": [
        "job_role = \"\"\"\n",
        "INFORMATION TECHNOLOGY TECHNICIAN I\n",
        "\n",
        "Summary:\n",
        "Versatile Systems Administrator possessing superior troubleshooting skills for networking issues, end user problems, and network security.\n",
        "Experienced in server management, systems analysis, and offering in-depth understanding of IT infrastructure areas.\n",
        "\n",
        "Highlights:\n",
        "- Active Directory, Office 365, Azure\n",
        "- PowerShell, VBScript, Microsoft Exchange\n",
        "- VMWare, Disaster Recovery, Storage Management\n",
        "\"\"\""
      ]
    },
    {
      "cell_type": "code",
      "execution_count": 8,
      "metadata": {
        "id": "z7nKsHtl-zjq"
      },
      "outputs": [],
      "source": [
        "import json\n",
        "rubric_json = {\n",
        "    \"total_points\": 50,\n",
        "    \"categories\": {\n",
        "        \"technical_skills\": {\n",
        "            \"max_points\": 20,\n",
        "            \"criteria\": {\n",
        "                \"matches_required_skills\": 10,\n",
        "                \"matches_preferred_skills\": 5,\n",
        "                \"demonstrates_relevant_projects\": 5\n",
        "            }\n",
        "        },\n",
        "        \"experience\": {\n",
        "            \"max_points\": 15,\n",
        "            \"criteria\": {\n",
        "                \"years_of_experience_meets_or_exceeds_requirement\": 10,\n",
        "                \"relevant_industry_experience\": 5\n",
        "            }\n",
        "        },\n",
        "        \"certifications_education\": {\n",
        "            \"max_points\": 5,\n",
        "            \"criteria\": {\n",
        "                \"relevant_certifications\": 3,\n",
        "                \"degree_in_related_field\": 2\n",
        "            }\n",
        "        },\n",
        "        \"soft_skills_achievements\": {\n",
        "            \"max_points\": 10,\n",
        "            \"criteria\": {\n",
        "                \"communication_teamwork_problem_solving\": 5,\n",
        "                \"leadership_or_notable_contributions\": 5\n",
        "            }\n",
        "        }\n",
        "    }\n",
        "}"
      ]
    },
    {
      "cell_type": "code",
      "execution_count": 9,
      "metadata": {
        "colab": {
          "base_uri": "https://localhost:8080/"
        },
        "id": "JeA7gC8x-zjq",
        "outputId": "0e904a99-2068-4e6e-f4ad-23c078f493f3"
      },
      "outputs": [
        {
          "name": "stdout",
          "output_type": "stream",
          "text": [
            "Your job is to rank a candidate for the job role.\n",
            "\n",
            "INFORMATION TECHNOLOGY TECHNICIAN I\n",
            "\n",
            "Summary:\n",
            "Versatile Systems Administrator possessing superior troubleshooting skills for networking issues, end user problems, and network security.\n",
            "Experienced in server management, systems analysis, and offering in-depth understanding of IT infrastructure areas.\n",
            "\n",
            "Highlights:\n",
            "- Active Directory, Office 365, Azure\n",
            "- PowerShell, VBScript, Microsoft Exchange\n",
            "- VMWare, Disaster Recovery, Storage Management\n",
            "\n",
            "Return as a JSON object.\n"
          ]
        }
      ],
      "source": [
        "system_prompt = f\"\"\"Your job is to rank a candidate for the job role.\n",
        "{job_role}\n",
        "Return as a JSON object.\"\"\"\n",
        "print(system_prompt)"
      ]
    },
    {
      "cell_type": "code",
      "execution_count": 10,
      "metadata": {
        "colab": {
          "base_uri": "https://localhost:8080/"
        },
        "id": "xAsk7D63-zjr",
        "outputId": "eafca0fa-b18e-4e2d-d992-6085a25cbcc9"
      },
      "outputs": [
        {
          "name": "stdout",
          "output_type": "stream",
          "text": [
            "\n",
            "resume:\n",
            "IT MANAGEMENT\n",
            "Career Overview\n",
            "Detail-oriented professional with extensive Information Technology experience in hardware and software troubleshooting/management. With\n",
            "additional experience in networking, task automation, server technologies, digital graphic design, client + server side programming technologies and\n",
            "popular industry software packages including Microsoft Office and Adobe Creative Suite.\n",
            "Qualifications\n",
            " Education and certificatesTroubleshooting q CompTIA A+ certified (2012) q Advanced troubleshooting q CompTIA Net+ certification class q\n",
            " Virus and spyware removal qMCSA certification class q Computer diagnostics and repair q Web Development I + II class q Gaming console\n",
            " repair and q Digital media manipulation class modification q Java programming class q Mobile device repair q Hardware support and\n",
            " Programming and Web troubleshooting q HTML - HTML5 q Optimizing and performance tuning q XML q Audio and video technologies q\n",
            " CSS - CSS3 q Medical technology installation and q JavaScript troubleshooting q Command Line q Java Management q ActionScript q\n",
            " Hardware and software upgrade q PHP planning q Database serversq Documentation q Android mobile applicationq Organization\n",
            " developmentq Multi-project priority management q Content Management Systems (CMS)Operating Systems q Website enhancement q\n",
            " Windows 95 - 8 qStoryboardingq Windows Server 2003 - 8 q Search Engine Optimization (SEO) q Windows Phone 7.0 - 8.0 q Social\n",
            " Media and marketingq Multiple Linux Distributions q Ubuntu 10.04 LTS - 12.10 Networkingq Android 1.0 - 4.0.4 q Cloud computingq Mac\n",
            " OS X v10.0 - v10.8 q Server managementq IOS 1.0 - 6.1 q Active directory qRemote connection technologies Programs q Proficiency in\n",
            " numerous protocolsq Microsoft Office 2010 including TCP/IP q Small business management q Information security software (client and server)\n",
            " q Wireless technologies q Adobe Creative Suite 5 q Telephony technologies q Wiring and Network engineeringGraphics and Media q Photo\n",
            " enhancing Electronicsq Brochure and newsletter formatting q Electronic circuits and components q Audio and video editing q Circuit diagrams\n",
            " and Prototypingq Logo and business card q Logic, electronic and computational algorithms q Electromagnetisms and waves q Quantumparticle\n",
            " mechanicsq As well as many miscellaneous IT q Energy and electrical alternatives skills. (Solar)\n",
            "Accomplishments\n",
            "      Rebuilt a client's website fromthe ground up and increased monthly hits from3422 to 40884 in a matter of a few months.\n",
            "      Designed, priced, built, and installed a complete information systemupgrade for a client; including networking devices, wiring, client\n",
            "      computers, server and software.\n",
            "      Diagrammed, prototyped, and assembled a portable USB phone charger outputting optimal voltage and amperage, with circuits and\n",
            "      components small enough to all fit in an Altoids tin.\n",
            "      It allows next to unlimited portable phone charging due to the device itself being recharged by a small solar panel on the top.\n",
            "      Automated and streamlined daily office tasks for client using Batch Scripting.\n",
            "      Troubleshot medical technology including X-ray machines and medical industry client and server software (Eaglesoft).\n",
            "      Information Technology project management experience.\n",
            "      Programmed a cloud storage website allowing a client access to a shared home network drive fromany browser, anywhere.\n",
            "      It includes security login, uploading and downloading.\n",
            "Work Experience\n",
            "IT management\n",
            "March 2012 toNovember 2012 Company Name ï¼ City ,State\n",
            "      In charge of planning, budgeting, and executing all IT projects.In addition to office troubleshooting, building/managing the company website\n",
            "      and designing/updating the business's electronic newsletter.\n",
            "Information Technology Consultant\n",
            "July 2011 toFebruary 2012 Company Name ï¼ State\n",
            "      Contracted IT consulting work fromclient computer repair to network expansion.\n",
            "May 2011 toJuly 2011 Company Name ï¼ City, State\n",
            "      In charge of company website management, social media administration, as well as assisting in administrative tasks.\n",
            "Education and Training\n",
            "Associate of Science :Information Technology, 2014 Lyons Township ï¼ City , State ,United States Information Technology\n",
            "High School Diploma General Education\n",
            "Coursework in computer science all 4 years GPA:Diamond Achievement Academic award * Honor Roll Diamond Achievement Academic\n",
            "award * Honor Roll\n",
            "Skills\n",
            "A+ certified, ActionScript, Active directory, administrative, Adobe Creative Suite 5, Photo, Audio, Brochure, budgeting, business management,\n",
            "client and server, CMS, Hardware, computer repair, consulting, Content Management, CSS, CSS3, client, Database, designing, Documentation,\n",
            "Electronics, XML, Graphics, Hardware support, HTML, HTML5, PHP, Information security, Java, Java programming, JavaScript, Linux, Logic,\n",
            "Logo, Mac OS, managing, marketing, Medical technology, Microsoft Office, office, Windows, Windows 95, Network engineering, network,\n",
            "Networking, newsletter, Operating Systems, Organization development, Programming, protocols, Prototyping, Search Engine Optimization,\n",
            "servers, Storyboarding, TCP/IP, Telephony, Phone 7.0, Troubleshooting, upgrade, video, video editing, Web Development I, Website, website\n",
            "management, Windows Server, Wiring\n",
            "rubric:\n",
            "{\n",
            "  \"total_points\": 50,\n",
            "  \"categories\": {\n",
            "    \"technical_skills\": {\n",
            "      \"max_points\": 20,\n",
            "      \"criteria\": {\n",
            "        \"matches_required_skills\": 10,\n",
            "        \"matches_preferred_skills\": 5,\n",
            "        \"demonstrates_relevant_projects\": 5\n",
            "      }\n",
            "    },\n",
            "    \"experience\": {\n",
            "      \"max_points\": 15,\n",
            "      \"criteria\": {\n",
            "        \"years_of_experience_meets_or_exceeds_requirement\": 10,\n",
            "        \"relevant_industry_experience\": 5\n",
            "      }\n",
            "    },\n",
            "    \"certifications_education\": {\n",
            "      \"max_points\": 5,\n",
            "      \"criteria\": {\n",
            "        \"relevant_certifications\": 3,\n",
            "        \"degree_in_related_field\": 2\n",
            "      }\n",
            "    },\n",
            "    \"soft_skills_achievements\": {\n",
            "      \"max_points\": 10,\n",
            "      \"criteria\": {\n",
            "        \"communication_teamwork_problem_solving\": 5,\n",
            "        \"leadership_or_notable_contributions\": 5\n",
            "      }\n",
            "    }\n",
            "  }\n",
            "}\n",
            "Please ensure output is exactly matching json structure because the output will be directly used in code\n",
            "\n"
          ]
        }
      ],
      "source": [
        "user_message = f\"\"\"\n",
        "resume:\n",
        "{resume}\n",
        "rubric:\n",
        "{json.dumps(rubric_json, indent=2)}\n",
        "Please ensure output is exactly matching json structure because the output will be directly used in code\n",
        "\"\"\"\n",
        "print(user_message)"
      ]
    },
    {
      "cell_type": "code",
      "execution_count": 11,
      "metadata": {
        "colab": {
          "base_uri": "https://localhost:8080/"
        },
        "id": "LV2FI9sg-zjr",
        "outputId": "3963be5d-1736-4a4a-efa0-7b2667924f7c"
      },
      "outputs": [
        {
          "name": "stdout",
          "output_type": "stream",
          "text": [
            "Requirement already satisfied: huggingface_hub in /usr/local/lib/python3.11/dist-packages (0.28.1)\n",
            "Requirement already satisfied: filelock in /usr/local/lib/python3.11/dist-packages (from huggingface_hub) (3.17.0)\n",
            "Requirement already satisfied: fsspec>=2023.5.0 in /usr/local/lib/python3.11/dist-packages (from huggingface_hub) (2024.10.0)\n",
            "Requirement already satisfied: packaging>=20.9 in /usr/local/lib/python3.11/dist-packages (from huggingface_hub) (24.2)\n",
            "Requirement already satisfied: pyyaml>=5.1 in /usr/local/lib/python3.11/dist-packages (from huggingface_hub) (6.0.2)\n",
            "Requirement already satisfied: requests in /usr/local/lib/python3.11/dist-packages (from huggingface_hub) (2.32.3)\n",
            "Requirement already satisfied: tqdm>=4.42.1 in /usr/local/lib/python3.11/dist-packages (from huggingface_hub) (4.67.1)\n",
            "Requirement already satisfied: typing-extensions>=3.7.4.3 in /usr/local/lib/python3.11/dist-packages (from huggingface_hub) (4.12.2)\n",
            "Requirement already satisfied: charset-normalizer<4,>=2 in /usr/local/lib/python3.11/dist-packages (from requests->huggingface_hub) (3.4.1)\n",
            "Requirement already satisfied: idna<4,>=2.5 in /usr/local/lib/python3.11/dist-packages (from requests->huggingface_hub) (3.10)\n",
            "Requirement already satisfied: urllib3<3,>=1.21.1 in /usr/local/lib/python3.11/dist-packages (from requests->huggingface_hub) (2.3.0)\n",
            "Requirement already satisfied: certifi>=2017.4.17 in /usr/local/lib/python3.11/dist-packages (from requests->huggingface_hub) (2025.1.31)\n"
          ]
        }
      ],
      "source": [
        "%pip install huggingface_hub"
      ]
    },
    {
      "cell_type": "code",
      "execution_count": null,
      "metadata": {
        "id": "4GFLwGki-zjs"
      },
      "outputs": [],
      "source": [
        "from huggingface_hub import InferenceClient\n",
        "\n",
        "client = InferenceClient(api_key=\"hf_\")"
      ]
    },
    {
      "cell_type": "code",
      "execution_count": 13,
      "metadata": {
        "colab": {
          "base_uri": "https://localhost:8080/"
        },
        "id": "PBVHszjT-zjs",
        "outputId": "ad526c40-f203-4af4-a061-bb24228b85b7"
      },
      "outputs": [
        {
          "name": "stdout",
          "output_type": "stream",
          "text": [
            "```json\n",
            "{\n",
            "  \"total_points\": 42,\n",
            "  \"categories\": {\n",
            "    \"technical_skills\": {\n",
            "      \"max_points\": 20,\n",
            "      \"criteria\": {\n",
            "        \"matches_required_skills\": 10,\n",
            "        \"matches_preferred_skills\": 5,\n",
            "        \"demonstrates_relevant_projects\": 5\n",
            "      },\n",
            "      \"score\": 18\n",
            "    },\n",
            "    \"experience\": {\n",
            "      \"max_points\": 15,\n",
            "      \"criteria\": {\n",
            "        \"years_of_experience_meets_or_exceeds_requirement\": 10,\n",
            "        \"relevant_industry_experience\": 5\n",
            "      },\n",
            "      \"score\": 12\n",
            "    },\n",
            "    \"certifications_education\": {\n",
            "      \"max_points\": 5,\n",
            "      \"criteria\": {\n",
            "        \"relevant_certifications\": 3,\n",
            "        \"degree_in_related_field\": 2\n",
            "      },\n",
            "      \"score\": 4\n",
            "    },\n",
            "    \"soft_skills_achievements\": {\n",
            "      \"max_points\": 10,\n",
            "      \"criteria\": {\n",
            "        \"communication_teamwork_problem_solving\": 5,\n",
            "        \"leadership_or_notable_contributions\": 5\n",
            "      },\n",
            "      \"score\": 8\n",
            "    }\n",
            "  }\n",
            "}\n",
            "```\n"
          ]
        }
      ],
      "source": [
        "messages = [\n",
        "    {\"role\": \"system\", \"content\": system_prompt},\n",
        "    {\"role\": \"user\", \"content\": user_message}\n",
        "]\n",
        "\n",
        "completion = client.chat.completions.create(\n",
        "    model=\"Qwen/Qwen2.5-72B-Instruct\",\n",
        "\tmessages=messages,\n",
        "\ttemperature=0.5,\n",
        "\tmax_tokens=2048,\n",
        "\ttop_p=0.7\n",
        ")\n",
        "\n",
        "print(completion.choices[0].message.content)\n"
      ]
    },
    {
      "cell_type": "code",
      "execution_count": 14,
      "metadata": {
        "id": "Z7oy4mPH-zjs"
      },
      "outputs": [],
      "source": [
        "response_text = completion.choices[0].message.content"
      ]
    },
    {
      "cell_type": "code",
      "execution_count": 15,
      "metadata": {
        "colab": {
          "base_uri": "https://localhost:8080/"
        },
        "id": "mx1E6vWT-zjs",
        "outputId": "b9fcaa3f-4eb0-48d9-adee-27e24be82f67"
      },
      "outputs": [
        {
          "name": "stdout",
          "output_type": "stream",
          "text": [
            "```json\n",
            "{\n",
            "  \"total_points\": 42,\n",
            "  \"categories\": {\n",
            "    \"technical_skills\": {\n",
            "      \"max_points\": 20,\n",
            "      \"criteria\": {\n",
            "        \"matches_required_skills\": 10,\n",
            "        \"matches_preferred_skills\": 5,\n",
            "        \"demonstrates_relevant_projects\": 5\n",
            "      },\n",
            "      \"score\": 18\n",
            "    },\n",
            "    \"experience\": {\n",
            "      \"max_points\": 15,\n",
            "      \"criteria\": {\n",
            "        \"years_of_experience_meets_or_exceeds_requirement\": 10,\n",
            "        \"relevant_industry_experience\": 5\n",
            "      },\n",
            "      \"score\": 12\n",
            "    },\n",
            "    \"certifications_education\": {\n",
            "      \"max_points\": 5,\n",
            "      \"criteria\": {\n",
            "        \"relevant_certifications\": 3,\n",
            "        \"degree_in_related_field\": 2\n",
            "      },\n",
            "      \"score\": 4\n",
            "    },\n",
            "    \"soft_skills_achievements\": {\n",
            "      \"max_points\": 10,\n",
            "      \"criteria\": {\n",
            "        \"communication_teamwork_problem_solving\": 5,\n",
            "        \"leadership_or_notable_contributions\": 5\n",
            "      },\n",
            "      \"score\": 8\n",
            "    }\n",
            "  }\n",
            "}\n",
            "```\n"
          ]
        }
      ],
      "source": [
        "import re\n",
        "cleaned_text = re.sub(r'\\\\_', '_', response_text)\n",
        "\n",
        "print(cleaned_text)"
      ]
    },
    {
      "cell_type": "code",
      "execution_count": 16,
      "metadata": {
        "colab": {
          "base_uri": "https://localhost:8080/"
        },
        "id": "iNhygYO_-zjt",
        "outputId": "fe315b8a-6ff5-49f8-9aa5-c390046eb73c"
      },
      "outputs": [
        {
          "name": "stdout",
          "output_type": "stream",
          "text": [
            "{\n",
            "  \"total_points\": 44,\n",
            "  \"categories\": {\n",
            "    \"technical_skills\": {\n",
            "      \"points\": 18,\n",
            "      \"details\": {\n",
            "        \"matches_required_skills\": 10,\n",
            "        \"matches_preferred_skills\": 5,\n",
            "        \"demonstrates_relevant_projects\": 3\n",
            "      }\n",
            "    },\n",
            "    \"experience\": {\n",
            "      \"points\": 15,\n",
            "      \"details\": {\n",
            "        \"years_of_experience_meets_or_exceeds_requirement\": 10,\n",
            "        \"relevant_industry_experience\": 5\n",
            "      }\n",
            "    },\n",
            "    \"certifications_education\": {\n",
            "      \"points\": 4,\n",
            "      \"details\": {\n",
            "        \"relevant_certifications\": 3,\n",
            "        \"degree_in_related_field\": 1\n",
            "      }\n",
            "    },\n",
            "    \"soft_skills_achievements\": {\n",
            "      \"points\": 7,\n",
            "      \"details\": {\n",
            "        \"communication_teamwork_problem_solving\": 5,\n",
            "        \"leadership_or_notable_contributions\": 2\n",
            "      }\n",
            "    }\n",
            "  }\n",
            "}\n",
            "Processed 11584809.txt → Saved to scores/11584809.json\n",
            "{\n",
            "  \"total_points\": 46,\n",
            "  \"categories\": {\n",
            "    \"technical_skills\": {\n",
            "      \"points\": 18,\n",
            "      \"details\": {\n",
            "        \"matches_required_skills\": 10,\n",
            "        \"matches_preferred_skills\": 5,\n",
            "        \"demonstrates_relevant_projects\": 3\n",
            "      }\n",
            "    },\n",
            "    \"experience\": {\n",
            "      \"points\": 15,\n",
            "      \"details\": {\n",
            "        \"years_of_experience_meets_or_exceeds_requirement\": 10,\n",
            "        \"relevant_industry_experience\": 5\n",
            "      }\n",
            "    },\n",
            "    \"certifications_education\": {\n",
            "      \"points\": 5,\n",
            "      \"details\": {\n",
            "        \"relevant_certifications\": 3,\n",
            "        \"degree_in_related_field\": 2\n",
            "      }\n",
            "    },\n",
            "    \"soft_skills_achievements\": {\n",
            "      \"points\": 8,\n",
            "      \"details\": {\n",
            "        \"communication_teamwork_problem_solving\": 5,\n",
            "        \"leadership_or_notable_contributions\": 3\n",
            "      }\n",
            "    }\n",
            "  }\n",
            "}\n",
            "Processed 11580408.txt → Saved to scores/11580408.json\n",
            "{\n",
            "  \"total_points\": 46,\n",
            "  \"categories\": {\n",
            "    \"technical_skills\": {\n",
            "      \"max_points\": 20,\n",
            "      \"criteria\": {\n",
            "        \"matches_required_skills\": 10,\n",
            "        \"matches_preferred_skills\": 5,\n",
            "        \"demonstrates_relevant_projects\": 5\n",
            "      },\n",
            "      \"points\": 20\n",
            "    },\n",
            "    \"experience\": {\n",
            "      \"max_points\": 15,\n",
            "      \"criteria\": {\n",
            "        \"years_of_experience_meets_or_exceeds_requirement\": 10,\n",
            "        \"relevant_industry_experience\": 5\n",
            "      },\n",
            "      \"points\": 15\n",
            "    },\n",
            "    \"certifications_education\": {\n",
            "      \"max_points\": 5,\n",
            "      \"criteria\": {\n",
            "        \"relevant_certifications\": 3,\n",
            "        \"degree_in_related_field\": 2\n",
            "      },\n",
            "      \"points\": 3\n",
            "    },\n",
            "    \"soft_skills_achievements\": {\n",
            "      \"max_points\": 10,\n",
            "      \"criteria\": {\n",
            "        \"communication_teamwork_problem_solving\": 5,\n",
            "        \"leadership_or_notable_contributions\": 5\n",
            "      },\n",
            "      \"points\": 8\n",
            "    }\n",
            "  }\n",
            "}\n",
            "Processed 10840430.txt → Saved to scores/10840430.json\n",
            "{\n",
            "  \"total_points\": 32,\n",
            "  \"categories\": {\n",
            "    \"technical_skills\": {\n",
            "      \"points\": 15,\n",
            "      \"criteria\": {\n",
            "        \"matches_required_skills\": 10,\n",
            "        \"matches_preferred_skills\": 3,\n",
            "        \"demonstrates_relevant_projects\": 2\n",
            "      }\n",
            "    },\n",
            "    \"experience\": {\n",
            "      \"points\": 8,\n",
            "      \"criteria\": {\n",
            "        \"years_of_experience_meets_or_exceeds_requirement\": 5,\n",
            "        \"relevant_industry_experience\": 3\n",
            "      }\n",
            "    },\n",
            "    \"certifications_education\": {\n",
            "      \"points\": 3,\n",
            "      \"criteria\": {\n",
            "        \"relevant_certifications\": 1,\n",
            "        \"degree_in_related_field\": 2\n",
            "      }\n",
            "    },\n",
            "    \"soft_skills_achievements\": {\n",
            "      \"points\": 6,\n",
            "      \"criteria\": {\n",
            "        \"communication_teamwork_problem_solving\": 4,\n",
            "        \"leadership_or_notable_contributions\": 2\n",
            "      }\n",
            "    }\n",
            "  }\n",
            "}\n",
            "Processed 10839851.txt → Saved to scores/10839851.json\n",
            "{\n",
            "  \"total_points\": 43,\n",
            "  \"categories\": {\n",
            "    \"technical_skills\": {\n",
            "      \"max_points\": 20,\n",
            "      \"score\": 18,\n",
            "      \"criteria\": {\n",
            "        \"matches_required_skills\": 10,\n",
            "        \"matches_preferred_skills\": 5,\n",
            "        \"demonstrates_relevant_projects\": 3\n",
            "      }\n",
            "    },\n",
            "    \"experience\": {\n",
            "      \"max_points\": 15,\n",
            "      \"score\": 12,\n",
            "      \"criteria\": {\n",
            "        \"years_of_experience_meets_or_exceeds_requirement\": 8,\n",
            "        \"relevant_industry_experience\": 4\n",
            "      }\n",
            "    },\n",
            "    \"certifications_education\": {\n",
            "      \"max_points\": 5,\n",
            "      \"score\": 4,\n",
            "      \"criteria\": {\n",
            "        \"relevant_certifications\": 3,\n",
            "        \"degree_in_related_field\": 1\n",
            "      }\n",
            "    },\n",
            "    \"soft_skills_achievements\": {\n",
            "      \"max_points\": 10,\n",
            "      \"score\": 9,\n",
            "      \"criteria\": {\n",
            "        \"communication_teamwork_problem_solving\": 5,\n",
            "        \"leadership_or_notable_contributions\": 4\n",
            "      }\n",
            "    }\n",
            "  }\n",
            "}\n",
            "Processed 10641230.txt → Saved to scores/10641230.json\n"
          ]
        }
      ],
      "source": [
        "os.makedirs(\"scores\", exist_ok=True)\n",
        "\n",
        "for filename in os.listdir(\"parsed/\"):\n",
        "    if filename.endswith(\".txt\"):\n",
        "        file_path = os.path.join(\"parsed/\", filename)\n",
        "\n",
        "        # Read resume content\n",
        "        with open(file_path, \"r\", encoding=\"utf-8\") as f:\n",
        "            resume = f.read()\n",
        "\n",
        "        # Construct user message\n",
        "        user_message = f\"\"\"\n",
        "        resume:\n",
        "        {resume}\n",
        "        rubric:\n",
        "        {json.dumps(rubric_json, indent=2)}\n",
        "        Please ensure output is exactly matching JSON structure because the output will be directly used in code\n",
        "        \"\"\"\n",
        "\n",
        "        messages = [\n",
        "            {\"role\": \"system\", \"content\": system_prompt},\n",
        "            {\"role\": \"user\", \"content\": user_message}\n",
        "        ]\n",
        "\n",
        "        # Get LLM completion\n",
        "        completion = client.chat.completions.create(\n",
        "            model=\"Qwen/Qwen2.5-72B-Instruct\",\n",
        "            messages=messages,\n",
        "            temperature=0.5,\n",
        "            max_tokens=2048,\n",
        "            top_p=0.7\n",
        "        )\n",
        "\n",
        "        # Extract response and clean it\n",
        "        response_text = completion.choices[0].message.content\n",
        "        cleaned_text = re.sub(r'\\\\_', '_', response_text)\n",
        "        cleaned_text = re.search(r\"```json\\n(.*?)\\n```\", cleaned_text, re.DOTALL)\n",
        "        print(cleaned_text.group(1))\n",
        "        # Save cleaned JSON output\n",
        "        output_path = os.path.join(\"scores/\", filename.replace(\".txt\", \".json\"))\n",
        "        with open(output_path, \"w\", encoding=\"utf-8\") as f:\n",
        "            f.write(cleaned_text.group(1))\n",
        "\n",
        "        print(f\"Processed {filename} → Saved to {output_path}\")"
      ]
    }
  ],
  "metadata": {
    "colab": {
      "provenance": []
    },
    "kernelspec": {
      "display_name": ".venv",
      "language": "python",
      "name": "python3"
    },
    "language_info": {
      "codemirror_mode": {
        "name": "ipython",
        "version": 3
      },
      "file_extension": ".py",
      "mimetype": "text/x-python",
      "name": "python",
      "nbconvert_exporter": "python",
      "pygments_lexer": "ipython3",
      "version": "3.11.9"
    }
  },
  "nbformat": 4,
  "nbformat_minor": 0
}
